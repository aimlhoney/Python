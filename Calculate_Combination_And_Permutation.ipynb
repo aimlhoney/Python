{
  "nbformat": 4,
  "nbformat_minor": 0,
  "metadata": {
    "colab": {
      "name": "Calculate Combination And Permutation.ipynb",
      "provenance": [],
      "collapsed_sections": []
    },
    "kernelspec": {
      "name": "python3",
      "display_name": "Python 3"
    }
  },
  "cells": [
    {
      "cell_type": "markdown",
      "metadata": {
        "id": "f98t0N9YWdsr",
        "colab_type": "text"
      },
      "source": [
        "### Calculate Combination And Permutation"
      ]
    },
    {
      "cell_type": "code",
      "metadata": {
        "id": "JJvSF-ZrlCN2",
        "colab_type": "code",
        "colab": {}
      },
      "source": [
        "class CalculateCombinationAndPermutation:\n",
        "\n",
        "  def __init__(self, data):\n",
        "    self.n = int(data.split(',')[0])\n",
        "    self.r = int(data.split(',')[1])\n",
        "\n",
        "    if(self.n<self.r):\n",
        "      print(\"N should be greater or equal to r\")\n",
        "      return\n",
        "\n",
        "  def calculateCombination(self):\n",
        "    if self.n >= self.r :\n",
        "      return \"C(n,r) \"+str(self.factorial(self.n)//(self.factorial(self.r)* self.factorial(self.n-self.r)))\n",
        "\n",
        "  def calculatePermutation(self):\n",
        "    if self.n >= self.r :\n",
        "      return \"P(n,r) \"+str(self.factorial(self.n)//self.factorial(self.n-self.r))\n",
        "\n",
        "  def factorial(self,n):\n",
        "    if n<=1:\n",
        "      return 1\n",
        "    else :\n",
        "      return n*self.factorial(n-1)  \n"
      ],
      "execution_count": 28,
      "outputs": []
    },
    {
      "cell_type": "code",
      "metadata": {
        "id": "zCJyVyuQWkTO",
        "colab_type": "code",
        "colab": {
          "base_uri": "https://localhost:8080/",
          "height": 85
        },
        "outputId": "8f71e3c0-44ee-49c1-c60e-7291dfcec51c"
      },
      "source": [
        "data = input(\"Enter two numer n and r seperated by (,) comma\\n\")\n",
        "combination = CalculateCombinationAndPermutation(data)\n",
        "print(combination.calculateCombination())\n",
        "print(combination.calculatePermutation())"
      ],
      "execution_count": 29,
      "outputs": [
        {
          "output_type": "stream",
          "text": [
            "Enter two numer n and r seperated by (,) comma\n",
            "12,2\n",
            "C(n,r) 66\n",
            "P(n,r) 132\n"
          ],
          "name": "stdout"
        }
      ]
    },
    {
      "cell_type": "code",
      "metadata": {
        "id": "PdVcF09DlRKT",
        "colab_type": "code",
        "colab": {}
      },
      "source": [
        ""
      ],
      "execution_count": null,
      "outputs": []
    }
  ]
}
